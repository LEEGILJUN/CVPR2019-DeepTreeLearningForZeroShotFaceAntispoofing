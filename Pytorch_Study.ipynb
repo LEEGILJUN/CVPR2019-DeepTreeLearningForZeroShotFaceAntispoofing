{
  "nbformat": 4,
  "nbformat_minor": 0,
  "metadata": {
    "colab": {
      "name": "Pytorch_Study.ipynb",
      "provenance": [],
      "private_outputs": true,
      "authorship_tag": "ABX9TyMbr8VDmjdf8V4kx5W76Nf1",
      "include_colab_link": true
    },
    "kernelspec": {
      "name": "python3",
      "display_name": "Python 3"
    }
  },
  "cells": [
    {
      "cell_type": "markdown",
      "metadata": {
        "id": "view-in-github",
        "colab_type": "text"
      },
      "source": [
        "<a href=\"https://colab.research.google.com/github/LEEGILJUN/CVPR2019-DeepTreeLearningForZeroShotFaceAntispoofing/blob/master/Pytorch_Study.ipynb\" target=\"_parent\"><img src=\"https://colab.research.google.com/assets/colab-badge.svg\" alt=\"Open In Colab\"/></a>"
      ]
    },
    {
      "cell_type": "markdown",
      "metadata": {
        "id": "2cdlz-W2GtUv",
        "colab_type": "text"
      },
      "source": [
        "박소윤 선생님의 파이토치 특강"
      ]
    },
    {
      "cell_type": "code",
      "metadata": {
        "id": "aiLpRh7nGxiD",
        "colab_type": "code",
        "colab": {}
      },
      "source": [
        "from google.colab import drive \n",
        "drive.mount('/content/gdrive/')\n",
        "\n"
      ],
      "execution_count": null,
      "outputs": []
    },
    {
      "cell_type": "code",
      "metadata": {
        "id": "U15cyx7bHflp",
        "colab_type": "code",
        "colab": {}
      },
      "source": [
        "print(\"korea\")"
      ],
      "execution_count": null,
      "outputs": []
    },
    {
      "cell_type": "code",
      "metadata": {
        "id": "rfLFH_-tIKx0",
        "colab_type": "code",
        "colab": {}
      },
      "source": [
        ""
      ],
      "execution_count": null,
      "outputs": []
    }
  ]
}